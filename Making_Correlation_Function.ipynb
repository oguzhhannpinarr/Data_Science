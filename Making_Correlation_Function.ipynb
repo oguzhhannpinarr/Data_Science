{
 "cells": [
  {
   "cell_type": "code",
   "execution_count": 10,
   "id": "20d9d5fb",
   "metadata": {},
   "outputs": [],
   "source": [
    "import numpy as np\n",
    "from scipy import stats\n",
    "import random #generate random series"
   ]
  },
  {
   "cell_type": "markdown",
   "id": "f3aceb4c",
   "metadata": {},
   "source": [
    "Our aim is find correlation between two or more data series if there is.\n"
   ]
  },
  {
   "cell_type": "markdown",
   "id": "94f7093c",
   "metadata": {},
   "source": [
    "### What is correlation?"
   ]
  },
  {
   "cell_type": "markdown",
   "id": "13962bd3",
   "metadata": {},
   "source": [
    "İki değişken arasında bir ilişki olup olmadığını ölçmeye yarayan ve bunu derecelendiren statistical method."
   ]
  },
  {
   "cell_type": "markdown",
   "id": "4680fb9a",
   "metadata": {},
   "source": [
    "### Correlation formula:"
   ]
  },
  {
   "cell_type": "markdown",
   "id": "d97d03d6",
   "metadata": {},
   "source": [
    "$\\nu=\\frac{cov_{x,y}}{sd_{x}sd_{y}} \\$\n",
    "\n",
    "$cov_{x,y}=\\frac{(x_{i}-\\overline{x})(y_{i}-\\overline{y})}{N-1} \\$\n",
    "\n",
    "$ \\nu\\rightarrow \\text{correlation} \\newline $\n",
    "$ \\overline{x}\\rightarrow \\text{average  of  x} \\newline $\n",
    "$ cov \\rightarrow \\text{covariant}  \\$\n"
   ]
  },
  {
   "cell_type": "markdown",
   "id": "cb8a570f",
   "metadata": {},
   "source": [
    "Before we ll create average value and standart deviation function:"
   ]
  },
  {
   "cell_type": "code",
   "execution_count": 11,
   "id": "348890c5",
   "metadata": {},
   "outputs": [],
   "source": [
    "def avg(x):\n",
    "    data_len=len(x)\n",
    "    if (data_len<=1):\n",
    "        return x\n",
    "    else:\n",
    "        return sum(x)/data_len"
   ]
  },
  {
   "cell_type": "code",
   "execution_count": 12,
   "id": "8d69db61",
   "metadata": {},
   "outputs": [],
   "source": [
    "def st_dv(x):\n",
    "    sd=0 #standart_deviation\n",
    "    data_len=len(x)\n",
    "    if (data_len<=1):\n",
    "        return 0\n",
    "    else:\n",
    "        for i in x:\n",
    "            sd +=(float(_) - avg(x)) ** 2\n",
    "            sd = (sd / float(data_len)) ** 0.5\n",
    "        return sd"
   ]
  },
  {
   "cell_type": "code",
   "execution_count": 16,
   "id": "c0faefae",
   "metadata": {},
   "outputs": [],
   "source": [
    "def correlation(x_1,x_2):\n",
    "    assert len(x_1)==len(x_2) #assert komutu sonuc sadece True olduğunda programı devam ettirir\n",
    "    data_len=len(x_1)\n",
    "    assert data_len>0\n",
    "    x1_avg=avg(x_1)\n",
    "    x2_avg=avg(x_2)\n",
    "    x_prob=0\n",
    "    x_1_d_2,x_2_d_2=0,0\n",
    "    for i in range(data_len):\n",
    "        x_1_d=x_1[i]-x1_avg\n",
    "        x_2_d=x_1[i]-x2_avg\n",
    "        x_prob +=x_1_d*x_2_d\n",
    "        x_1_d_2 +=x_1_d*x_1_d\n",
    "        x_2_d_2 +=x_1_d*x_2_d\n",
    "    return x_prob/(x_1_d_2*x_2_d_2)**.5       \n",
    "        \n",
    "    \n",
    "\n",
    "    \n",
    "    "
   ]
  },
  {
   "cell_type": "markdown",
   "id": "1a2fb6d8",
   "metadata": {},
   "source": [
    "# şimdi functionımızı test edelim:"
   ]
  },
  {
   "cell_type": "code",
   "execution_count": 17,
   "id": "b36df483",
   "metadata": {},
   "outputs": [],
   "source": [
    "a = sorted([random.randrange(1, 500, 1) for i in range(500)])\n",
    "b = sorted([random.randrange(1, 500, 1) for i in range(500)])"
   ]
  },
  {
   "cell_type": "markdown",
   "id": "bb90ce2e",
   "metadata": {},
   "source": [
    "rastgele sayı ürettik"
   ]
  },
  {
   "cell_type": "code",
   "execution_count": 18,
   "id": "39bb1e5a",
   "metadata": {},
   "outputs": [
    {
     "name": "stdout",
     "output_type": "stream",
     "text": [
      "(0.9989912916911852, 0.0)\n",
      "1.0000000000000004\n"
     ]
    }
   ],
   "source": [
    "print(stats.pearsonr(a,b))\n",
    "\n",
    "print(correlation(a,b))\n"
   ]
  },
  {
   "cell_type": "markdown",
   "id": "be3d3ce7",
   "metadata": {},
   "source": [
    "0.0 p-value değerini gösterir"
   ]
  },
  {
   "cell_type": "code",
   "execution_count": null,
   "id": "2405b8a7",
   "metadata": {},
   "outputs": [],
   "source": []
  }
 ],
 "metadata": {
  "kernelspec": {
   "display_name": "Python 3 (ipykernel)",
   "language": "python",
   "name": "python3"
  },
  "language_info": {
   "codemirror_mode": {
    "name": "ipython",
    "version": 3
   },
   "file_extension": ".py",
   "mimetype": "text/x-python",
   "name": "python",
   "nbconvert_exporter": "python",
   "pygments_lexer": "ipython3",
   "version": "3.9.13"
  }
 },
 "nbformat": 4,
 "nbformat_minor": 5
}
