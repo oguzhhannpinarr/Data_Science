{
 "cells": [
  {
   "cell_type": "code",
   "execution_count": 2,
   "id": "0b082f3b",
   "metadata": {},
   "outputs": [],
   "source": [
    "import urllib #access data\n",
    "import json #transforming data\n",
    "import pandas as pd"
   ]
  },
  {
   "cell_type": "markdown",
   "id": "3e360cbf",
   "metadata": {},
   "source": [
    "data source:https://data.ibb.gov.tr/dataset/gaz-birim-fiyati-ve-miktari/resource/dd1dfa09-5fd2-4533-96f4-e193be79053e"
   ]
  },
  {
   "cell_type": "code",
   "execution_count": 18,
   "id": "097f15c7",
   "metadata": {},
   "outputs": [],
   "source": [
    "url=\"https://data.ibb.gov.tr/en/datastore/odata3.0/dd1dfa09-5fd2-4533-96f4-e193be79053e?$format=json\" "
   ]
  },
  {
   "cell_type": "code",
   "execution_count": 19,
   "id": "d98b24f9",
   "metadata": {},
   "outputs": [],
   "source": [
    "def IbbData_to_df(urlAdress):\n",
    "    request=urllib.request.urlopen(urlAdress)\n",
    "    #trasforming data to python-json\n",
    "    data=json.loads(request.read().decode())\n",
    "    #get only data part in web\n",
    "    data=data.get(\"value\")\n",
    "    #trasnforming data to dataframe\n",
    "    return pd.DataFrame(data)"
   ]
  },
  {
   "cell_type": "markdown",
   "id": "a12900b3",
   "metadata": {},
   "source": [
    "### try to function:"
   ]
  },
  {
   "cell_type": "code",
   "execution_count": 20,
   "id": "5836a9a0",
   "metadata": {},
   "outputs": [],
   "source": [
    "df=IbbData_to_df(url)"
   ]
  },
  {
   "cell_type": "code",
   "execution_count": 21,
   "id": "aa58e4fe",
   "metadata": {},
   "outputs": [
    {
     "data": {
      "text/html": [
       "<div>\n",
       "<style scoped>\n",
       "    .dataframe tbody tr th:only-of-type {\n",
       "        vertical-align: middle;\n",
       "    }\n",
       "\n",
       "    .dataframe tbody tr th {\n",
       "        vertical-align: top;\n",
       "    }\n",
       "\n",
       "    .dataframe thead th {\n",
       "        text-align: right;\n",
       "    }\n",
       "</style>\n",
       "<table border=\"1\" class=\"dataframe\">\n",
       "  <thead>\n",
       "    <tr style=\"text-align: right;\">\n",
       "      <th></th>\n",
       "      <th>_id</th>\n",
       "      <th>Yil</th>\n",
       "      <th>Fiyat(TL) /m3</th>\n",
       "      <th>Gaz Satis Miktar (m3)</th>\n",
       "    </tr>\n",
       "  </thead>\n",
       "  <tbody>\n",
       "    <tr>\n",
       "      <th>0</th>\n",
       "      <td>1</td>\n",
       "      <td>2016</td>\n",
       "      <td>0.992</td>\n",
       "      <td>5755359363</td>\n",
       "    </tr>\n",
       "    <tr>\n",
       "      <th>1</th>\n",
       "      <td>2</td>\n",
       "      <td>2017</td>\n",
       "      <td>0.947</td>\n",
       "      <td>6472227327</td>\n",
       "    </tr>\n",
       "    <tr>\n",
       "      <th>2</th>\n",
       "      <td>3</td>\n",
       "      <td>2018</td>\n",
       "      <td>1.059</td>\n",
       "      <td>6414579426</td>\n",
       "    </tr>\n",
       "    <tr>\n",
       "      <th>3</th>\n",
       "      <td>4</td>\n",
       "      <td>2019</td>\n",
       "      <td>1.291</td>\n",
       "      <td>6306661121</td>\n",
       "    </tr>\n",
       "    <tr>\n",
       "      <th>4</th>\n",
       "      <td>5</td>\n",
       "      <td>2020</td>\n",
       "      <td>1.540</td>\n",
       "      <td>6472970557</td>\n",
       "    </tr>\n",
       "    <tr>\n",
       "      <th>5</th>\n",
       "      <td>6</td>\n",
       "      <td>2021</td>\n",
       "      <td>1.745</td>\n",
       "      <td>5377613045</td>\n",
       "    </tr>\n",
       "  </tbody>\n",
       "</table>\n",
       "</div>"
      ],
      "text/plain": [
       "   _id   Yil  Fiyat(TL) /m3  Gaz Satis Miktar (m3)\n",
       "0    1  2016          0.992             5755359363\n",
       "1    2  2017          0.947             6472227327\n",
       "2    3  2018          1.059             6414579426\n",
       "3    4  2019          1.291             6306661121\n",
       "4    5  2020          1.540             6472970557\n",
       "5    6  2021          1.745             5377613045"
      ]
     },
     "execution_count": 21,
     "metadata": {},
     "output_type": "execute_result"
    }
   ],
   "source": [
    "df"
   ]
  },
  {
   "cell_type": "markdown",
   "id": "9c5a7929",
   "metadata": {},
   "source": [
    "Warning:End of the url have to contain \"json\""
   ]
  },
  {
   "cell_type": "markdown",
   "id": "287d229b",
   "metadata": {},
   "source": [
    "Source:https://yigitsener.medium.com/i%CC%87bb-a%C3%A7%C4%B1k-veri-portal%C4%B1na-pythonda-api-ile-eri%C5%9Fim-ve-%C3%B6n-analiz-2d77757cc08"
   ]
  },
  {
   "cell_type": "code",
   "execution_count": null,
   "id": "65e23100",
   "metadata": {},
   "outputs": [],
   "source": []
  }
 ],
 "metadata": {
  "kernelspec": {
   "display_name": "Python 3 (ipykernel)",
   "language": "python",
   "name": "python3"
  },
  "language_info": {
   "codemirror_mode": {
    "name": "ipython",
    "version": 3
   },
   "file_extension": ".py",
   "mimetype": "text/x-python",
   "name": "python",
   "nbconvert_exporter": "python",
   "pygments_lexer": "ipython3",
   "version": "3.9.13"
  }
 },
 "nbformat": 4,
 "nbformat_minor": 5
}
