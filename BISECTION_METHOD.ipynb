{
 "cells": [
  {
   "cell_type": "markdown",
   "id": "45e16433",
   "metadata": {},
   "source": [
    "### If a continuous f(x) function changes sign certain interval [a,b],this function will have at least one root.We'll look sign of the function half of c value on [a,b]."
   ]
  },
  {
   "cell_type": "code",
   "execution_count": 26,
   "id": "98e53f37",
   "metadata": {},
   "outputs": [],
   "source": [
    "import numpy as np"
   ]
  },
  {
   "cell_type": "markdown",
   "id": "db558214",
   "metadata": {},
   "source": [
    "$f(x)=x^2+3x+1 \\qquad precision:10^{-6}\n",
    "$"
   ]
  },
  {
   "cell_type": "code",
   "execution_count": 29,
   "id": "ad1aa735",
   "metadata": {},
   "outputs": [],
   "source": [
    "def f(a,b,c):\n",
    "    f_1=(-b-np.sqrt((b**2)-(4*a*c)))/2*a\n",
    "    f_2=(-b+np.sqrt((b**2)-(4*a*c)))/2*a\n",
    "    return f_1,f_2"
   ]
  },
  {
   "cell_type": "code",
   "execution_count": 30,
   "id": "e97d7a82",
   "metadata": {},
   "outputs": [
    {
     "data": {
      "text/plain": [
       "(-2.618033988749895, -0.3819660112501051)"
      ]
     },
     "execution_count": 30,
     "metadata": {},
     "output_type": "execute_result"
    }
   ],
   "source": [
    "f(1,3,1)"
   ]
  },
  {
   "cell_type": "code",
   "execution_count": 31,
   "id": "fcd7b752",
   "metadata": {},
   "outputs": [
    {
     "data": {
      "text/plain": [
       "2.23606797749979"
      ]
     },
     "execution_count": 31,
     "metadata": {},
     "output_type": "execute_result"
    }
   ],
   "source": [
    "np.sqrt(5)"
   ]
  },
  {
   "cell_type": "markdown",
   "id": "a2aed0b1",
   "metadata": {},
   "source": [
    "### BISECTION METHOD"
   ]
  },
  {
   "cell_type": "code",
   "execution_count": 32,
   "id": "1b2df902",
   "metadata": {},
   "outputs": [],
   "source": [
    "a=-3.0\n",
    "f_a=a**2+3*a+1\n",
    "b=0.0\n",
    "f_b=b**2+3*b+1\n",
    "\n",
    "delta=1E-6 #precision\n"
   ]
  },
  {
   "cell_type": "code",
   "execution_count": 33,
   "id": "40793414",
   "metadata": {},
   "outputs": [
    {
     "name": "stdout",
     "output_type": "stream",
     "text": [
      "root= -2.618033766746521\n"
     ]
    }
   ],
   "source": [
    "while(np.abs(a-b)>delta):\n",
    "    c=(a+b)/2\n",
    "    f_c=c**2+3*c+1\n",
    "    if(np.sign(f_c)==np.sign(f_a)):\n",
    "        a=c\n",
    "        f_a=f_c\n",
    "    else:\n",
    "        b=c\n",
    "        f_b=f_c\n",
    "\n",
    "print(f\"root=\",(a+b)/2)        "
   ]
  },
  {
   "cell_type": "code",
   "execution_count": null,
   "id": "b0efd766",
   "metadata": {},
   "outputs": [],
   "source": []
  }
 ],
 "metadata": {
  "kernelspec": {
   "display_name": "Python 3 (ipykernel)",
   "language": "python",
   "name": "python3"
  },
  "language_info": {
   "codemirror_mode": {
    "name": "ipython",
    "version": 3
   },
   "file_extension": ".py",
   "mimetype": "text/x-python",
   "name": "python",
   "nbconvert_exporter": "python",
   "pygments_lexer": "ipython3",
   "version": "3.9.13"
  }
 },
 "nbformat": 4,
 "nbformat_minor": 5
}
