{
 "cells": [
  {
   "cell_type": "code",
   "execution_count": 49,
   "id": "c54ff308",
   "metadata": {},
   "outputs": [],
   "source": [
    "import numpy as np\n",
    "import pandas as pd\n",
    "import statsmodels.api as sm #for linear regression\n",
    "from sklearn.linear_model import LinearRegression\n",
    "from sklearn import metrics\n",
    "import matplotlib.pyplot as plt"
   ]
  },
  {
   "cell_type": "code",
   "execution_count": 50,
   "id": "bad863dd",
   "metadata": {},
   "outputs": [],
   "source": [
    "age=np.array([20,21,22,24,25,25,\n",
    "       26,27,27,28,28,28,\n",
    "       29,30,31,31,32,33,\n",
    "       33,34,35,36])\n",
    "income=[x**3/np.random.randint(2,4) for x in age]"
   ]
  },
  {
   "cell_type": "markdown",
   "id": "02f1c2dc",
   "metadata": {},
   "source": [
    "### Yukarıdaki iki listeyi 'pandas' ile DataFrame'e aktaralım:"
   ]
  },
  {
   "cell_type": "code",
   "execution_count": 51,
   "id": "df6a3a7c",
   "metadata": {},
   "outputs": [],
   "source": [
    "df=pd.DataFrame({\"age\":age,\n",
    "                \"income\":income})"
   ]
  },
  {
   "cell_type": "code",
   "execution_count": 52,
   "id": "f4a02e9b",
   "metadata": {},
   "outputs": [
    {
     "data": {
      "text/html": [
       "<div>\n",
       "<style scoped>\n",
       "    .dataframe tbody tr th:only-of-type {\n",
       "        vertical-align: middle;\n",
       "    }\n",
       "\n",
       "    .dataframe tbody tr th {\n",
       "        vertical-align: top;\n",
       "    }\n",
       "\n",
       "    .dataframe thead th {\n",
       "        text-align: right;\n",
       "    }\n",
       "</style>\n",
       "<table border=\"1\" class=\"dataframe\">\n",
       "  <thead>\n",
       "    <tr style=\"text-align: right;\">\n",
       "      <th></th>\n",
       "      <th>age</th>\n",
       "      <th>income</th>\n",
       "    </tr>\n",
       "  </thead>\n",
       "  <tbody>\n",
       "    <tr>\n",
       "      <th>0</th>\n",
       "      <td>20</td>\n",
       "      <td>4000.000000</td>\n",
       "    </tr>\n",
       "    <tr>\n",
       "      <th>1</th>\n",
       "      <td>21</td>\n",
       "      <td>4630.500000</td>\n",
       "    </tr>\n",
       "    <tr>\n",
       "      <th>2</th>\n",
       "      <td>22</td>\n",
       "      <td>3549.333333</td>\n",
       "    </tr>\n",
       "    <tr>\n",
       "      <th>3</th>\n",
       "      <td>24</td>\n",
       "      <td>6912.000000</td>\n",
       "    </tr>\n",
       "    <tr>\n",
       "      <th>4</th>\n",
       "      <td>25</td>\n",
       "      <td>5208.333333</td>\n",
       "    </tr>\n",
       "    <tr>\n",
       "      <th>5</th>\n",
       "      <td>25</td>\n",
       "      <td>7812.500000</td>\n",
       "    </tr>\n",
       "    <tr>\n",
       "      <th>6</th>\n",
       "      <td>26</td>\n",
       "      <td>8788.000000</td>\n",
       "    </tr>\n",
       "    <tr>\n",
       "      <th>7</th>\n",
       "      <td>27</td>\n",
       "      <td>9841.500000</td>\n",
       "    </tr>\n",
       "    <tr>\n",
       "      <th>8</th>\n",
       "      <td>27</td>\n",
       "      <td>9841.500000</td>\n",
       "    </tr>\n",
       "    <tr>\n",
       "      <th>9</th>\n",
       "      <td>28</td>\n",
       "      <td>10976.000000</td>\n",
       "    </tr>\n",
       "    <tr>\n",
       "      <th>10</th>\n",
       "      <td>28</td>\n",
       "      <td>10976.000000</td>\n",
       "    </tr>\n",
       "    <tr>\n",
       "      <th>11</th>\n",
       "      <td>28</td>\n",
       "      <td>10976.000000</td>\n",
       "    </tr>\n",
       "    <tr>\n",
       "      <th>12</th>\n",
       "      <td>29</td>\n",
       "      <td>12194.500000</td>\n",
       "    </tr>\n",
       "    <tr>\n",
       "      <th>13</th>\n",
       "      <td>30</td>\n",
       "      <td>9000.000000</td>\n",
       "    </tr>\n",
       "    <tr>\n",
       "      <th>14</th>\n",
       "      <td>31</td>\n",
       "      <td>14895.500000</td>\n",
       "    </tr>\n",
       "    <tr>\n",
       "      <th>15</th>\n",
       "      <td>31</td>\n",
       "      <td>9930.333333</td>\n",
       "    </tr>\n",
       "    <tr>\n",
       "      <th>16</th>\n",
       "      <td>32</td>\n",
       "      <td>16384.000000</td>\n",
       "    </tr>\n",
       "    <tr>\n",
       "      <th>17</th>\n",
       "      <td>33</td>\n",
       "      <td>11979.000000</td>\n",
       "    </tr>\n",
       "    <tr>\n",
       "      <th>18</th>\n",
       "      <td>33</td>\n",
       "      <td>17968.500000</td>\n",
       "    </tr>\n",
       "    <tr>\n",
       "      <th>19</th>\n",
       "      <td>34</td>\n",
       "      <td>19652.000000</td>\n",
       "    </tr>\n",
       "    <tr>\n",
       "      <th>20</th>\n",
       "      <td>35</td>\n",
       "      <td>14291.666667</td>\n",
       "    </tr>\n",
       "    <tr>\n",
       "      <th>21</th>\n",
       "      <td>36</td>\n",
       "      <td>15552.000000</td>\n",
       "    </tr>\n",
       "  </tbody>\n",
       "</table>\n",
       "</div>"
      ],
      "text/plain": [
       "    age        income\n",
       "0    20   4000.000000\n",
       "1    21   4630.500000\n",
       "2    22   3549.333333\n",
       "3    24   6912.000000\n",
       "4    25   5208.333333\n",
       "5    25   7812.500000\n",
       "6    26   8788.000000\n",
       "7    27   9841.500000\n",
       "8    27   9841.500000\n",
       "9    28  10976.000000\n",
       "10   28  10976.000000\n",
       "11   28  10976.000000\n",
       "12   29  12194.500000\n",
       "13   30   9000.000000\n",
       "14   31  14895.500000\n",
       "15   31   9930.333333\n",
       "16   32  16384.000000\n",
       "17   33  11979.000000\n",
       "18   33  17968.500000\n",
       "19   34  19652.000000\n",
       "20   35  14291.666667\n",
       "21   36  15552.000000"
      ]
     },
     "execution_count": 52,
     "metadata": {},
     "output_type": "execute_result"
    }
   ],
   "source": [
    "df"
   ]
  },
  {
   "cell_type": "code",
   "execution_count": 53,
   "id": "ca6d241a",
   "metadata": {},
   "outputs": [
    {
     "data": {
      "text/html": [
       "<div>\n",
       "<style scoped>\n",
       "    .dataframe tbody tr th:only-of-type {\n",
       "        vertical-align: middle;\n",
       "    }\n",
       "\n",
       "    .dataframe tbody tr th {\n",
       "        vertical-align: top;\n",
       "    }\n",
       "\n",
       "    .dataframe thead th {\n",
       "        text-align: right;\n",
       "    }\n",
       "</style>\n",
       "<table border=\"1\" class=\"dataframe\">\n",
       "  <thead>\n",
       "    <tr style=\"text-align: right;\">\n",
       "      <th></th>\n",
       "      <th>age</th>\n",
       "      <th>income</th>\n",
       "    </tr>\n",
       "  </thead>\n",
       "  <tbody>\n",
       "    <tr>\n",
       "      <th>count</th>\n",
       "      <td>22.000000</td>\n",
       "      <td>22.000000</td>\n",
       "    </tr>\n",
       "    <tr>\n",
       "      <th>mean</th>\n",
       "      <td>28.409091</td>\n",
       "      <td>10698.143939</td>\n",
       "    </tr>\n",
       "    <tr>\n",
       "      <th>std</th>\n",
       "      <td>4.489767</td>\n",
       "      <td>4460.073199</td>\n",
       "    </tr>\n",
       "    <tr>\n",
       "      <th>min</th>\n",
       "      <td>20.000000</td>\n",
       "      <td>3549.333333</td>\n",
       "    </tr>\n",
       "    <tr>\n",
       "      <th>25%</th>\n",
       "      <td>25.250000</td>\n",
       "      <td>8056.375000</td>\n",
       "    </tr>\n",
       "    <tr>\n",
       "      <th>50%</th>\n",
       "      <td>28.000000</td>\n",
       "      <td>10453.166667</td>\n",
       "    </tr>\n",
       "    <tr>\n",
       "      <th>75%</th>\n",
       "      <td>31.750000</td>\n",
       "      <td>13767.375000</td>\n",
       "    </tr>\n",
       "    <tr>\n",
       "      <th>max</th>\n",
       "      <td>36.000000</td>\n",
       "      <td>19652.000000</td>\n",
       "    </tr>\n",
       "  </tbody>\n",
       "</table>\n",
       "</div>"
      ],
      "text/plain": [
       "             age        income\n",
       "count  22.000000     22.000000\n",
       "mean   28.409091  10698.143939\n",
       "std     4.489767   4460.073199\n",
       "min    20.000000   3549.333333\n",
       "25%    25.250000   8056.375000\n",
       "50%    28.000000  10453.166667\n",
       "75%    31.750000  13767.375000\n",
       "max    36.000000  19652.000000"
      ]
     },
     "execution_count": 53,
     "metadata": {},
     "output_type": "execute_result"
    }
   ],
   "source": [
    "df.describe()"
   ]
  },
  {
   "cell_type": "code",
   "execution_count": 54,
   "id": "1aecdfb0",
   "metadata": {},
   "outputs": [
    {
     "name": "stdout",
     "output_type": "stream",
     "text": [
      "<class 'pandas.core.frame.DataFrame'>\n",
      "RangeIndex: 22 entries, 0 to 21\n",
      "Data columns (total 2 columns):\n",
      " #   Column  Non-Null Count  Dtype  \n",
      "---  ------  --------------  -----  \n",
      " 0   age     22 non-null     int32  \n",
      " 1   income  22 non-null     float64\n",
      "dtypes: float64(1), int32(1)\n",
      "memory usage: 392.0 bytes\n"
     ]
    }
   ],
   "source": [
    "df.info()"
   ]
  },
  {
   "cell_type": "code",
   "execution_count": 55,
   "id": "b9cc4cef",
   "metadata": {},
   "outputs": [
    {
     "data": {
      "image/png": "[encoded data removed]",
      "text/plain": [
       "<Figure size 640x480 with 1 Axes>"
      ]
     },
     "metadata": {},
     "output_type": "display_data"
    }
   ],
   "source": [
    "plt.scatter(df.age,df.income,color='blue')\n",
    "plt.xlabel(\"Age\")\n",
    "plt.ylabel(\"Income(USD)\")\n",
    "plt.show()"
   ]
  },
  {
   "cell_type": "markdown",
   "id": "39ed8c8f",
   "metadata": {},
   "source": [
    "İki data arasında linear bir ilişki gözüküyor.Aralarındaki correlationa bakalım:"
   ]
  },
  {
   "cell_type": "code",
   "execution_count": 56,
   "id": "42a5dc13",
   "metadata": {},
   "outputs": [
    {
     "data": {
      "text/html": [
       "<div>\n",
       "<style scoped>\n",
       "    .dataframe tbody tr th:only-of-type {\n",
       "        vertical-align: middle;\n",
       "    }\n",
       "\n",
       "    .dataframe tbody tr th {\n",
       "        vertical-align: top;\n",
       "    }\n",
       "\n",
       "    .dataframe thead th {\n",
       "        text-align: right;\n",
       "    }\n",
       "</style>\n",
       "<table border=\"1\" class=\"dataframe\">\n",
       "  <thead>\n",
       "    <tr style=\"text-align: right;\">\n",
       "      <th></th>\n",
       "      <th>age</th>\n",
       "      <th>income</th>\n",
       "    </tr>\n",
       "  </thead>\n",
       "  <tbody>\n",
       "    <tr>\n",
       "      <th>age</th>\n",
       "      <td>1.000000</td>\n",
       "      <td>0.894973</td>\n",
       "    </tr>\n",
       "    <tr>\n",
       "      <th>income</th>\n",
       "      <td>0.894973</td>\n",
       "      <td>1.000000</td>\n",
       "    </tr>\n",
       "  </tbody>\n",
       "</table>\n",
       "</div>"
      ],
      "text/plain": [
       "             age    income\n",
       "age     1.000000  0.894973\n",
       "income  0.894973  1.000000"
      ]
     },
     "execution_count": 56,
     "metadata": {},
     "output_type": "execute_result"
    }
   ],
   "source": [
    "df.corr()"
   ]
  },
  {
   "cell_type": "markdown",
   "id": "961bf216",
   "metadata": {},
   "source": [
    "0.9 gibi oldukça güçlü bir correlation var."
   ]
  },
  {
   "cell_type": "markdown",
   "id": "dce60e91",
   "metadata": {},
   "source": [
    "Şimdi öyle bi reggression line belirlememiz gerekiyor ki average'ın dışında kalanlar için bile bir prediction yapılabilsin."
   ]
  },
  {
   "cell_type": "markdown",
   "id": "066223e2",
   "metadata": {},
   "source": [
    "$y=mx+c$"
   ]
  },
  {
   "cell_type": "code",
   "execution_count": 57,
   "id": "6a1ec231",
   "metadata": {},
   "outputs": [],
   "source": [
    "x=df.age\n",
    "y_real=df.income"
   ]
  },
  {
   "cell_type": "code",
   "execution_count": 58,
   "id": "97750e2e",
   "metadata": {},
   "outputs": [],
   "source": [
    "x=sm.add_constant(x) #constand adding"
   ]
  },
  {
   "cell_type": "code",
   "execution_count": 59,
   "id": "a56744c9",
   "metadata": {},
   "outputs": [],
   "source": [
    "model=sm.OLS(y_real,x).fit() #working of the model"
   ]
  },
  {
   "cell_type": "code",
   "execution_count": 60,
   "id": "46a3bceb",
   "metadata": {
    "scrolled": true
   },
   "outputs": [
    {
     "data": {
      "text/html": [
       "<table class=\"simpletable\">\n",
       "<caption>OLS Regression Results</caption>\n",
       "<tr>\n",
       "  <th>Dep. Variable:</th>         <td>income</td>      <th>  R-squared:         </th> <td>   0.801</td>\n",
       "</tr>\n",
       "<tr>\n",
       "  <th>Model:</th>                   <td>OLS</td>       <th>  Adj. R-squared:    </th> <td>   0.791</td>\n",
       "</tr>\n",
       "<tr>\n",
       "  <th>Method:</th>             <td>Least Squares</td>  <th>  F-statistic:       </th> <td>   80.49</td>\n",
       "</tr>\n",
       "<tr>\n",
       "  <th>Date:</th>             <td>Thu, 31 Aug 2023</td> <th>  Prob (F-statistic):</th> <td>1.90e-08</td>\n",
       "</tr>\n",
       "<tr>\n",
       "  <th>Time:</th>                 <td>13:37:55</td>     <th>  Log-Likelihood:    </th> <td> -197.81</td>\n",
       "</tr>\n",
       "<tr>\n",
       "  <th>No. Observations:</th>      <td>    22</td>      <th>  AIC:               </th> <td>   399.6</td>\n",
       "</tr>\n",
       "<tr>\n",
       "  <th>Df Residuals:</th>          <td>    20</td>      <th>  BIC:               </th> <td>   401.8</td>\n",
       "</tr>\n",
       "<tr>\n",
       "  <th>Df Model:</th>              <td>     1</td>      <th>                     </th>     <td> </td>   \n",
       "</tr>\n",
       "<tr>\n",
       "  <th>Covariance Type:</th>      <td>nonrobust</td>    <th>                     </th>     <td> </td>   \n",
       "</tr>\n",
       "</table>\n",
       "<table class=\"simpletable\">\n",
       "<tr>\n",
       "    <td></td>       <th>coef</th>     <th>std err</th>      <th>t</th>      <th>P>|t|</th>  <th>[0.025</th>    <th>0.975]</th>  \n",
       "</tr>\n",
       "<tr>\n",
       "  <th>const</th> <td>-1.456e+04</td> <td> 2848.577</td> <td>   -5.111</td> <td> 0.000</td> <td>-2.05e+04</td> <td>-8617.054</td>\n",
       "</tr>\n",
       "<tr>\n",
       "  <th>age</th>   <td>  889.0544</td> <td>   99.096</td> <td>    8.972</td> <td> 0.000</td> <td>  682.345</td> <td> 1095.764</td>\n",
       "</tr>\n",
       "</table>\n",
       "<table class=\"simpletable\">\n",
       "<tr>\n",
       "  <th>Omnibus:</th>       <td> 0.205</td> <th>  Durbin-Watson:     </th> <td>   2.661</td>\n",
       "</tr>\n",
       "<tr>\n",
       "  <th>Prob(Omnibus):</th> <td> 0.903</td> <th>  Jarque-Bera (JB):  </th> <td>   0.408</td>\n",
       "</tr>\n",
       "<tr>\n",
       "  <th>Skew:</th>          <td> 0.018</td> <th>  Prob(JB):          </th> <td>   0.815</td>\n",
       "</tr>\n",
       "<tr>\n",
       "  <th>Kurtosis:</th>      <td> 2.333</td> <th>  Cond. No.          </th> <td>    189.</td>\n",
       "</tr>\n",
       "</table><br/><br/>Notes:<br/>[1] Standard Errors assume that the covariance matrix of the errors is correctly specified."
      ],
      "text/plain": [
       "<class 'statsmodels.iolib.summary.Summary'>\n",
       "\"\"\"\n",
       "                            OLS Regression Results                            \n",
       "==============================================================================\n",
       "Dep. Variable:                 income   R-squared:                       0.801\n",
       "Model:                            OLS   Adj. R-squared:                  0.791\n",
       "Method:                 Least Squares   F-statistic:                     80.49\n",
       "Date:                Thu, 31 Aug 2023   Prob (F-statistic):           1.90e-08\n",
       "Time:                        13:37:55   Log-Likelihood:                -197.81\n",
       "No. Observations:                  22   AIC:                             399.6\n",
       "Df Residuals:                      20   BIC:                             401.8\n",
       "Df Model:                           1                                         \n",
       "Covariance Type:            nonrobust                                         \n",
       "==============================================================================\n",
       "                 coef    std err          t      P>|t|      [0.025      0.975]\n",
       "------------------------------------------------------------------------------\n",
       "const      -1.456e+04   2848.577     -5.111      0.000   -2.05e+04   -8617.054\n",
       "age          889.0544     99.096      8.972      0.000     682.345    1095.764\n",
       "==============================================================================\n",
       "Omnibus:                        0.205   Durbin-Watson:                   2.661\n",
       "Prob(Omnibus):                  0.903   Jarque-Bera (JB):                0.408\n",
       "Skew:                           0.018   Prob(JB):                        0.815\n",
       "Kurtosis:                       2.333   Cond. No.                         189.\n",
       "==============================================================================\n",
       "\n",
       "Notes:\n",
       "[1] Standard Errors assume that the covariance matrix of the errors is correctly specified.\n",
       "\"\"\""
      ]
     },
     "execution_count": 60,
     "metadata": {},
     "output_type": "execute_result"
    }
   ],
   "source": [
    "model.summary() #info"
   ]
  },
  {
   "cell_type": "markdown",
   "id": "3927b605",
   "metadata": {},
   "source": [
    "$ \\textbf{OLS (Ordinary Least Squared):} $ Sıradan en küçük kareler yöntemidir. Doğrusal regresyon modeli kurulurken verilerin ortasından geçen eğime (çizgiye) en az kare farkı ile yaklaşmaya çalışan bir yöntemdir.\n",
    "\n",
    "$\\textbf{R-Squared (R2):}$ Verilerin yerleştirilmiş regresyon çizgisine ne kadar yakın olduğunun istatistiksel bir ölçüsüdür. Bizim tablomuzda bu değer 0.80 olup görece iyi bir sonuç diyebiliriz. Sosyal bilimler için 0.70 üzeri ve doğa bilimleri için ise değişkenlik göstermekte olup 0.60 üzeri kabul edilebilir bir başarı ölçütü sayılabilir.\n",
    "\n",
    "$\\textbf{Adjusted (Düzenlenmiş) R-Squared:}$ Bu değer genellikle çoklu regresyon analizinde kullanılır. Modele değişken eklendikçe R2 değeri değişkeni etkili varsayıp varyansını açıkladığını sanabilir. Ancak düzenlenmiş R2 mantığında her bir değişkenin bağımlı değişken üzerindeki etkisi ölçülerek daha optimum sonuçlar vermektedir. Tabloyu yorumlarken bu iki değerin birbirine yakın çıkması önemli bir konu olup bizim tablomuzda her iki değerinde (0.80-0.79) birbirine yakın olduğu görülmektedir. Bu çıktının anlamak için şöyle bir örnek verilebilir. Örneğin bir evin hem brüt hem de net metrekaresi bulunur. Brüt metrekare her şeyi içine dahil ederken net ise sadece yaşam alanına odaklanır. Dolayısı ile ev bakarken bu ikisi arasındaki farkı bilmek önemlidir. Model sonucunu incelerken de bu alana bakılması önemlidir.\n",
    "\n",
    "$ \\textbf{Coefficients (Katsayılar):} $  Regresyon katsayısı, iki veya daha fazla değişken arasındaki ortalama fonksiyonel ilişkinin istatistiksel bir ölçüsüdür. Tablo 2'de const için yazan yerde regresyon formülündeki sabitin değerini verirken, Yas için yazan yerde ise yaştaki bir birimlik değişimde gelirin ne kadar değişeceğini göstermektedir. Dolayısı ile regresyon tahmin yaparken buradaki katsayılardan yararlanır. Formülde yerine yerleştirecek olursak; Y(tahmin edilecek değer) = X(Yaş) * m(Eğim) + b (sabit değer). Örneğin: Yaşı 20 olan birinin gelirine 2666.666 demiştik. Şimdi regresyon doğrusunu çizdikten sonra bu modele göre yaşı 20 olan birisine ne kadarlık bir gelir belirleyecek hesaplayalım. Y (Gelir) = (20 * 953.512) + (-17320) ise tahmini gelir = 1749 olacaktır. Arada neredeyse 900 TL gibi bir fark var. Yüksek görünse de doğrusal bir model olduğu için en optimum noktadaki eğimin verdiği sonuç budur.\n",
    "\n",
    "$\\textbf{P-Value:}$ Bu değer bize bağımsız değişkenden çıkan katsayının istatistiksel olarak anlamlı olup olmadığını vermektedir. Bilim dünyasında genel olarak kabul edilen anlamlılık değeri x<0.05'dir. Eğer bu değerin üzerinde bir sonuç çıkıyorsa ilgili bağımsız değişkenin modele etkisi anlamlı değildir. Bu değer, çok değişkenli regresyon analizinde değişkenlerin seçimi sırasında kullanılmaktadır. Tablo 2'de çıkan P-Value değerinin ise .05'den küçük olduğu görülmekte olup yaş değişkeninin katsayısının istatistiksel olarak anlamlı olduğu düşünülebilir. Aslında yukarıdaki (4. madde) işlemin yapılmasından önce bu değerin kontrolünün sağlanması gerekmektedir."
   ]
  },
  {
   "cell_type": "code",
   "execution_count": 67,
   "id": "f717e03f",
   "metadata": {},
   "outputs": [
    {
     "data": {
      "image/png": "[encoded data removed]",
      "text/plain": [
       "<Figure size 1200x800 with 1 Axes>"
      ]
     },
     "metadata": {},
     "output_type": "display_data"
    }
   ],
   "source": [
    "fig, ax = plt.subplots(figsize=(12, 8)) #plot size\n",
    "fig=sm.graphics.plot_ccpr(model,\"age\",ax=ax)\n",
    "plt.title(\"Age-Income Prediction w Basic Linear Regression\")\n",
    "plt.xlabel(\"Age\")\n",
    "plt.ylabel(\"Income(USD)\")\n",
    "plt.show()\n"
   ]
  },
  {
   "cell_type": "markdown",
   "id": "7c01070e",
   "metadata": {},
   "source": [
    "### Modelimize göre income prediction ne çıkmaktadır.Ona bakalım:"
   ]
  },
  {
   "cell_type": "code",
   "execution_count": 76,
   "id": "4960aa37",
   "metadata": {},
   "outputs": [
    {
     "name": "stdout",
     "output_type": "stream",
     "text": [
      "Predicted Income:\n",
      " 0      3222.005083\n",
      "1      4111.059433\n",
      "2      5000.113784\n",
      "3      6778.222485\n",
      "4      7667.276835\n",
      "5      7667.276835\n",
      "6      8556.331186\n",
      "7      9445.385536\n",
      "8      9445.385536\n",
      "9     10334.439887\n",
      "10    10334.439887\n",
      "11    10334.439887\n",
      "12    11223.494237\n",
      "13    12112.548588\n",
      "14    13001.602939\n",
      "15    13001.602939\n",
      "16    13890.657289\n",
      "17    14779.711640\n",
      "18    14779.711640\n",
      "19    15668.765990\n",
      "20    16557.820341\n",
      "21    17446.874691\n",
      "dtype: float64\n"
     ]
    }
   ],
   "source": [
    "y_pred=model.predict(x) #elimizdeki age verisine göre modelin income predicti\n",
    "print(f\"Predicted Income:\\n {y_pred}\")"
   ]
  },
  {
   "cell_type": "markdown",
   "id": "10c407e8",
   "metadata": {},
   "source": [
    "### Comparetion to Real Values w Predicted Values"
   ]
  },
  {
   "cell_type": "code",
   "execution_count": 77,
   "id": "fae684c7",
   "metadata": {},
   "outputs": [],
   "source": [
    "compare=pd.DataFrame({'Real_Values':y_real,\n",
    "                     'Predicted_Values':y_pred})"
   ]
  },
  {
   "cell_type": "code",
   "execution_count": 78,
   "id": "3859a703",
   "metadata": {},
   "outputs": [],
   "source": [
    "compare[\"predic_error\"]=compare.Real_Values-compare.Predicted_Values"
   ]
  },
  {
   "cell_type": "code",
   "execution_count": 81,
   "id": "a029a233",
   "metadata": {},
   "outputs": [
    {
     "data": {
      "text/html": [
       "<div>\n",
       "<style scoped>\n",
       "    .dataframe tbody tr th:only-of-type {\n",
       "        vertical-align: middle;\n",
       "    }\n",
       "\n",
       "    .dataframe tbody tr th {\n",
       "        vertical-align: top;\n",
       "    }\n",
       "\n",
       "    .dataframe thead th {\n",
       "        text-align: right;\n",
       "    }\n",
       "</style>\n",
       "<table border=\"1\" class=\"dataframe\">\n",
       "  <thead>\n",
       "    <tr style=\"text-align: right;\">\n",
       "      <th></th>\n",
       "      <th>Real_Values</th>\n",
       "      <th>Predicted_Values</th>\n",
       "      <th>predic_error</th>\n",
       "    </tr>\n",
       "  </thead>\n",
       "  <tbody>\n",
       "    <tr>\n",
       "      <th>0</th>\n",
       "      <td>4000.000000</td>\n",
       "      <td>3222.005083</td>\n",
       "      <td>777.994917</td>\n",
       "    </tr>\n",
       "    <tr>\n",
       "      <th>1</th>\n",
       "      <td>4630.500000</td>\n",
       "      <td>4111.059433</td>\n",
       "      <td>519.440567</td>\n",
       "    </tr>\n",
       "    <tr>\n",
       "      <th>2</th>\n",
       "      <td>3549.333333</td>\n",
       "      <td>5000.113784</td>\n",
       "      <td>-1450.780450</td>\n",
       "    </tr>\n",
       "    <tr>\n",
       "      <th>3</th>\n",
       "      <td>6912.000000</td>\n",
       "      <td>6778.222485</td>\n",
       "      <td>133.777515</td>\n",
       "    </tr>\n",
       "    <tr>\n",
       "      <th>4</th>\n",
       "      <td>5208.333333</td>\n",
       "      <td>7667.276835</td>\n",
       "      <td>-2458.943502</td>\n",
       "    </tr>\n",
       "    <tr>\n",
       "      <th>5</th>\n",
       "      <td>7812.500000</td>\n",
       "      <td>7667.276835</td>\n",
       "      <td>145.223165</td>\n",
       "    </tr>\n",
       "    <tr>\n",
       "      <th>6</th>\n",
       "      <td>8788.000000</td>\n",
       "      <td>8556.331186</td>\n",
       "      <td>231.668814</td>\n",
       "    </tr>\n",
       "    <tr>\n",
       "      <th>7</th>\n",
       "      <td>9841.500000</td>\n",
       "      <td>9445.385536</td>\n",
       "      <td>396.114464</td>\n",
       "    </tr>\n",
       "    <tr>\n",
       "      <th>8</th>\n",
       "      <td>9841.500000</td>\n",
       "      <td>9445.385536</td>\n",
       "      <td>396.114464</td>\n",
       "    </tr>\n",
       "    <tr>\n",
       "      <th>9</th>\n",
       "      <td>10976.000000</td>\n",
       "      <td>10334.439887</td>\n",
       "      <td>641.560113</td>\n",
       "    </tr>\n",
       "    <tr>\n",
       "      <th>10</th>\n",
       "      <td>10976.000000</td>\n",
       "      <td>10334.439887</td>\n",
       "      <td>641.560113</td>\n",
       "    </tr>\n",
       "    <tr>\n",
       "      <th>11</th>\n",
       "      <td>10976.000000</td>\n",
       "      <td>10334.439887</td>\n",
       "      <td>641.560113</td>\n",
       "    </tr>\n",
       "    <tr>\n",
       "      <th>12</th>\n",
       "      <td>12194.500000</td>\n",
       "      <td>11223.494237</td>\n",
       "      <td>971.005763</td>\n",
       "    </tr>\n",
       "    <tr>\n",
       "      <th>13</th>\n",
       "      <td>9000.000000</td>\n",
       "      <td>12112.548588</td>\n",
       "      <td>-3112.548588</td>\n",
       "    </tr>\n",
       "    <tr>\n",
       "      <th>14</th>\n",
       "      <td>14895.500000</td>\n",
       "      <td>13001.602939</td>\n",
       "      <td>1893.897061</td>\n",
       "    </tr>\n",
       "    <tr>\n",
       "      <th>15</th>\n",
       "      <td>9930.333333</td>\n",
       "      <td>13001.602939</td>\n",
       "      <td>-3071.269605</td>\n",
       "    </tr>\n",
       "    <tr>\n",
       "      <th>16</th>\n",
       "      <td>16384.000000</td>\n",
       "      <td>13890.657289</td>\n",
       "      <td>2493.342711</td>\n",
       "    </tr>\n",
       "    <tr>\n",
       "      <th>17</th>\n",
       "      <td>11979.000000</td>\n",
       "      <td>14779.711640</td>\n",
       "      <td>-2800.711640</td>\n",
       "    </tr>\n",
       "    <tr>\n",
       "      <th>18</th>\n",
       "      <td>17968.500000</td>\n",
       "      <td>14779.711640</td>\n",
       "      <td>3188.788360</td>\n",
       "    </tr>\n",
       "    <tr>\n",
       "      <th>19</th>\n",
       "      <td>19652.000000</td>\n",
       "      <td>15668.765990</td>\n",
       "      <td>3983.234010</td>\n",
       "    </tr>\n",
       "    <tr>\n",
       "      <th>20</th>\n",
       "      <td>14291.666667</td>\n",
       "      <td>16557.820341</td>\n",
       "      <td>-2266.153674</td>\n",
       "    </tr>\n",
       "    <tr>\n",
       "      <th>21</th>\n",
       "      <td>15552.000000</td>\n",
       "      <td>17446.874691</td>\n",
       "      <td>-1894.874691</td>\n",
       "    </tr>\n",
       "  </tbody>\n",
       "</table>\n",
       "</div>"
      ],
      "text/plain": [
       "     Real_Values  Predicted_Values  predic_error\n",
       "0    4000.000000       3222.005083    777.994917\n",
       "1    4630.500000       4111.059433    519.440567\n",
       "2    3549.333333       5000.113784  -1450.780450\n",
       "3    6912.000000       6778.222485    133.777515\n",
       "4    5208.333333       7667.276835  -2458.943502\n",
       "5    7812.500000       7667.276835    145.223165\n",
       "6    8788.000000       8556.331186    231.668814\n",
       "7    9841.500000       9445.385536    396.114464\n",
       "8    9841.500000       9445.385536    396.114464\n",
       "9   10976.000000      10334.439887    641.560113\n",
       "10  10976.000000      10334.439887    641.560113\n",
       "11  10976.000000      10334.439887    641.560113\n",
       "12  12194.500000      11223.494237    971.005763\n",
       "13   9000.000000      12112.548588  -3112.548588\n",
       "14  14895.500000      13001.602939   1893.897061\n",
       "15   9930.333333      13001.602939  -3071.269605\n",
       "16  16384.000000      13890.657289   2493.342711\n",
       "17  11979.000000      14779.711640  -2800.711640\n",
       "18  17968.500000      14779.711640   3188.788360\n",
       "19  19652.000000      15668.765990   3983.234010\n",
       "20  14291.666667      16557.820341  -2266.153674\n",
       "21  15552.000000      17446.874691  -1894.874691"
      ]
     },
     "execution_count": 81,
     "metadata": {},
     "output_type": "execute_result"
    }
   ],
   "source": [
    "compare"
   ]
  },
  {
   "cell_type": "markdown",
   "id": "a397a3f7",
   "metadata": {},
   "source": [
    "### Source: https://yigitsener.medium.com/makine-%C3%B6%C4%9Frenmesinde-python-ile-basit-do%C4%9Frusal-regresyon-modelinin-kurulmas%C4%B1-ve-yorumlanmas%C4%B1-4cf918e1adf"
   ]
  },
  {
   "cell_type": "code",
   "execution_count": null,
   "id": "ea99bb98",
   "metadata": {},
   "outputs": [],
   "source": []
  }
 ],
 "metadata": {
  "kernelspec": {
   "display_name": "Python 3 (ipykernel)",
   "language": "python",
   "name": "python3"
  },
  "language_info": {
   "codemirror_mode": {
    "name": "ipython",
    "version": 3
   },
   "file_extension": ".py",
   "mimetype": "text/x-python",
   "name": "python",
   "nbconvert_exporter": "python",
   "pygments_lexer": "ipython3",
   "version": "3.9.13"
  }
 },
 "nbformat": 4,
 "nbformat_minor": 5
}
